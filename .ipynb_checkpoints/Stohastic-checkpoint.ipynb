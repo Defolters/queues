{
 "cells": [
  {
   "cell_type": "code",
   "execution_count": 498,
   "metadata": {},
   "outputs": [],
   "source": [
    "import random, math\n",
    "import matplotlib.pyplot as plt\n",
    "import seaborn as sns\n",
    "import statistics\n",
    "import numpy as np\n",
    "import copy\n",
    "\n",
    "from matplotlib import style\n",
    "style.use('seaborn')"
   ]
  },
  {
   "cell_type": "code",
   "execution_count": 499,
   "metadata": {},
   "outputs": [
    {
     "ename": "IndentationError",
     "evalue": "unexpected indent (<ipython-input-499-0229863772a9>, line 2)",
     "output_type": "error",
     "traceback": [
      "\u001b[1;36m  File \u001b[1;32m\"<ipython-input-499-0229863772a9>\"\u001b[1;36m, line \u001b[1;32m2\u001b[0m\n\u001b[1;33m    tmp_powerness_ = self.tmp_powerness\u001b[0m\n\u001b[1;37m    ^\u001b[0m\n\u001b[1;31mIndentationError\u001b[0m\u001b[1;31m:\u001b[0m unexpected indent\n"
     ]
    }
   ],
   "source": [
    "self.tmp_powerness = self.powerness\n",
    "        tmp_powerness_ = self.tmp_powerness\n",
    "        \n",
    "        if self.customer:\n",
    "            '''print(f'first, id= {self.id},tmp_powerness= {self.tmp_powerness}, \\\n",
    "                  time_to_process= {self.customer.time_to_process_this_customer},  \\\n",
    "                  tmp_powerness_= {tmp_powerness_},tmp_powerness= {self.tmp_powerness}')'''\n",
    "            tmp_powerness_-= self.customer.time_to_process_this_customer\n",
    "            self.customer.time_to_process_this_customer -= self.tmp_powerness\n",
    "            self.tmp_powerness = tmp_powerness_\n",
    "            '''print(f'second, id= {self.id},tmp_powerness= {self.tmp_powerness}, \\\n",
    "                  time_to_process= {self.customer.time_to_process_this_customer},  \\\n",
    "                  tmp_powerness_= {tmp_powerness_},tmp_powerness= {self.tmp_powerness}')'''\n",
    "            if self.customer.time_to_process_this_customer <= 0:\n",
    "                        mean_time_spent.append(self.customer.spent_time)\n",
    "                        self.customer = None\n",
    "        if list_of_customers is not None:\n",
    "            for i in list_of_customers:\n",
    "                if self.tmp_powerness > 0:\n",
    "                    ''' print(f'first, id= {self.id},tmp_powerness= {self.tmp_powerness},  \\\n",
    "                    time_to_process= {i.time_to_process_this_customer},  \\\n",
    "                    tmp_powerness_= {tmp_powerness_},tmp_powerness= {self.tmp_powerness}')'''\n",
    "                    tmp_powerness_-= i.time_to_process_this_customer\n",
    "                    i.time_to_process_this_customer -= self.tmp_powerness\n",
    "                    self.tmp_powerness = tmp_powerness_\n",
    "                    '''print(f'second, id= {self.id},tmp_powerness= {self.tmp_powerness}, \\\n",
    "                    time_to_process= {i.time_to_process_this_customer}, \\\n",
    "                    tmp_powerness_= {tmp_powerness_},tmp_powerness= {self.tmp_powerness}')'''\n",
    "                    if i.time_to_process_this_customer > 0:\n",
    "                        self.customer = i\n",
    "                        list_of_customers.remove(i)\n",
    "                    if i.time_to_process_this_customer <= 0:\n",
    "                        mean_time_spent.append(i.spent_time)\n",
    "                        list_of_customers.remove(i)"
   ]
  },
  {
   "cell_type": "code",
   "execution_count": 500,
   "metadata": {},
   "outputs": [],
   "source": [
    "random.seed(4)"
   ]
  },
  {
   "cell_type": "code",
   "execution_count": 501,
   "metadata": {},
   "outputs": [
    {
     "name": "stdout",
     "output_type": "stream",
     "text": [
      "0.4966204900202819\n",
      "2.7950848239788524\n"
     ]
    }
   ],
   "source": [
    "def exprand(lambdr):\n",
    "    return np.random.exponential(1/lambdr)\n",
    "\n",
    "print(exprand(1/5))\n",
    "print(np.random.exponential(5))"
   ]
  },
  {
   "cell_type": "code",
   "execution_count": 502,
   "metadata": {},
   "outputs": [
    {
     "name": "stdout",
     "output_type": "stream",
     "text": [
      "5.004378121415191\n",
      "4.998098445857935\n"
     ]
    }
   ],
   "source": [
    "a = []\n",
    "b = []\n",
    "for i in range(100000):\n",
    "    a.append(np.random.exponential(5))\n",
    "    b.append(exprand(1/5))\n",
    "print(statistics.mean(a))\n",
    "print(statistics.mean(b))"
   ]
  },
  {
   "cell_type": "code",
   "execution_count": 503,
   "metadata": {},
   "outputs": [],
   "source": [
    "class Customer:\n",
    "    def __init__(self, customer_id, check_in_time, time_to_process_this_customer):\n",
    "        self.customer_id = customer_id  # номер человека\n",
    "        self.check_in_time = check_in_time #время, в которое он придет\n",
    "        self.time_to_process_this_customer = time_to_process_this_customer # время на обработку этого человека (+1 временное решение того, что 0 требуется на процесс)\n",
    "        self.spent_time=time_to_process_this_customer\n",
    "        \n",
    "    def __repr__(self):\n",
    "        return f'id={self.customer_id}, check_in= {self.check_in_time}, time_to_process_this_customer= {self.time_to_process_this_customer}'\n",
    "\n",
    "# Обработчик\n",
    "class Handler:\n",
    "    def __init__(self, id):\n",
    "        self.id = id\n",
    "        self.powerness = 1.0\n",
    "        self.tmp_powerness = self.powerness\n",
    "        self.customer = None\n",
    "\n",
    "    def process_customer(self, customer):\n",
    "        self.customer.time_to_process_this_customer -= self.tmp_powerness\n",
    "        if self.customer.time_to_process_this_customer <= 0:\n",
    "            self.tmp_powerness = -self.customer.time_to_process_this_customer\n",
    "    \n",
    "    def process_own_customer(self, mean_time_spent):\n",
    "        if self.customer:\n",
    "            self.process_customer(self.customer)\n",
    "            if self.customer.time_to_process_this_customer <= 0:\n",
    "                mean_time_spent.append(self.customer.spent_time)\n",
    "                self.customer = None\n",
    "                \n",
    "    def process_customers(self, list_of_customers, mean_time_spent):  \n",
    "        self.process_own_customer(mean_time_spent)\n",
    "        while not self.customer and self.tmp_powerness > 0 and list_of_customers:\n",
    "            self.customer = list_of_customers.pop(0)\n",
    "            self.process_own_customer(mean_time_spent)\n",
    "            if self.customer:\n",
    "                break\n",
    "        self.tmp_powerness = self.powerness\n",
    "                    \n",
    "    def get_tmp_powerness(self):\n",
    "        return self.tmp_powerness\n",
    "    \n",
    "    def get_powerness(self):\n",
    "        return self.powerness"
   ]
  },
  {
   "cell_type": "code",
   "execution_count": 504,
   "metadata": {},
   "outputs": [],
   "source": [
    "# Вeликий обрабатор!\n",
    "class MainHandler:\n",
    "    def __init__(self, number_of_handlers, lambda_, nu):\n",
    "        self.number_of_handlers = number_of_handlers\n",
    "        #self.number_of_customers = number_of_customers\n",
    "        self.list_of_customers = []\n",
    "        self.list_of_tmp_customers = []\n",
    "        self.list_of_handlers = []\n",
    "        self.number_of_customers_left  = 0\n",
    "        self.customers_growth = []\n",
    "        self.customers_all = 0\n",
    "        self.mean_time_spent = []\n",
    "        self.handler_load = []\n",
    "        self.lambda_ = lambda_\n",
    "        self.nu = nu\n",
    "        \n",
    "    def get_next(self, customer_id, check_in, nu):\n",
    "        # Устанавливаем номер человека\n",
    "        # время, через котрое он придет\n",
    "        # и время, которое требуется на его обработку\n",
    "        customer = Customer(customer_id, check_in, abs(exprand(nu)))\n",
    "    \n",
    "        return customer\n",
    "    \n",
    "    def generate_customers(self, steps):\n",
    "        lost_time = steps  # оставшееся количество шагов == время для генерации\n",
    "\n",
    "        customer_id = 0\n",
    "        \n",
    "        for i in range(steps):\n",
    "            tmp = round(exprand(self.lambda_))\n",
    "            '''print(tmp)'''\n",
    "            if tmp == 0:\n",
    "                tmp = 1\n",
    "            \n",
    "            for j in range(tmp):\n",
    "                customer = self.get_next(customer_id, i, self.nu)\n",
    "                '''print(customer)'''\n",
    "                customer_id += 1\n",
    "                self.list_of_customers.append(customer)\n",
    "\n",
    "        #print(\"Number of customers:\" + str(len(self.list_of_customers)))\n",
    "        #for customer in self.list_of_customers:\n",
    "            #print(\"check_in_time: \"+str(customer.check_in_time) + \" and time_to_process_this_customer:\" + str(customer.time_to_process_this_customer))\n",
    "\n",
    "    def start(self, steps):\n",
    "        self.generate_customers(steps)\n",
    "        \n",
    "        for i in range(self.number_of_handlers):\n",
    "            self.list_of_handlers.append(Handler(i))\n",
    "\n",
    "        for i in range(steps):\n",
    "            new_customers = [customer for customer in self.list_of_customers if customer.check_in_time == i]\n",
    "            \n",
    "            # save customers number\n",
    "            self.customers_all += len(new_customers)\n",
    "            self.customers_growth.append(self.customers_all)\n",
    "            \n",
    "            # обрабатываем людей\n",
    "            for handler in self.list_of_handlers:\n",
    "                handler.process_customers(new_customers, self.mean_time_spent)\n",
    "        \n",
    "            number_of_working_handlers = 0\n",
    "            for handler in self.list_of_handlers:\n",
    "                if handler.customer:\n",
    "                    number_of_working_handlers += 1\n",
    "            \n",
    "            self.handler_load.append(number_of_working_handlers)\n",
    "            \n",
    "            self.number_of_customers_left+=len(new_customers)\n",
    "                \n",
    "            # продолжаем\n",
    "\n",
    "    def clear(self):\n",
    "        self.list_of_customers.clear()\n",
    "        self.list_of_handlers.clear()\n",
    "        self.number_of_customers_left  = 0\n",
    "        self.customers_growth.clear()\n",
    "        self.customers_all = 0\n",
    "        self.mean_time_spent.clear()\n",
    "        self.handler_load.clear()\n",
    "        \n",
    "    # statistics\n",
    "    def get_customers(self):\n",
    "        return self.list_of_customers\n",
    "    \n",
    "    # количество пришедших кастомеров с начала\n",
    "    def get_customer_growth(self):\n",
    "        return self.customers_growth\n",
    "    \n",
    "    # Среднее количество НОВЫХ заявок в системе\n",
    "    def get_mean_customer_growth(self):\n",
    "        return self.customers_all/len(self.customers_growth)\n",
    "    \n",
    "    # количество ОБРАБАТЫВАЕМЫХ заявок в системе\n",
    "    def get_handler_load(self):\n",
    "        return self.handler_load\n",
    "    \n",
    "    # Среднее количество ОБРАБАТЫВАЕМЫХ заявок в системе\n",
    "    def get_mean_handler_load(self):\n",
    "        sum_load = 0\n",
    "        for load in self.handler_load:\n",
    "            sum_load += load\n",
    "        \n",
    "        return sum_load/len(self.handler_load)\n",
    "    \n",
    "    # среднее время пребыания?\n",
    "    def get_mean_time_spent(self):\n",
    "        return statistics.mean(self.mean_time_spent)\n",
    "    \n",
    "    # вероятность отказа\n",
    "    def get_deny_probability(self):\n",
    "        return self.number_of_customers_left/self.customers_all"
   ]
  },
  {
   "cell_type": "code",
   "execution_count": 629,
   "metadata": {},
   "outputs": [],
   "source": [
    "class Model:\n",
    "    def __init__(self, number_of_handlers, lambda_, nu):\n",
    "        self.__handler = MainHandler(number_of_handlers, 1/lambda_, nu)\n",
    "        self.__time = None\n",
    "        \n",
    "    def run(self):\n",
    "        if self.__time is None or self.__handler is None:\n",
    "            raise ValueError\n",
    "        \n",
    "        self.__handler.start(self.__time)\n",
    "        \n",
    "    def set_time(self, time):\n",
    "        if time <= 0:\n",
    "            raise ValueError\n",
    "            \n",
    "        self.__time = time\n",
    "        \n",
    "    def get_time(self):\n",
    "        return self.__time\n",
    "    \n",
    "    def get_handler(self):\n",
    "        return self.__handler\n",
    "    \n",
    "    def set_handler(self, handler):\n",
    "        self.__handler = handler\n",
    "    \n",
    "    handler = property(get_handler, set_handler)\n",
    "    time = property(get_time, set_time)\n"
   ]
  },
  {
   "cell_type": "code",
   "execution_count": 630,
   "metadata": {},
   "outputs": [
    {
     "data": {
      "text/plain": [
       "'lambda_ = 1 # интенсивность\\nnu = 5 #пропускная способность\\nnumber_of_handlers = 5 # кол-во обработчиков\\nrandom.seed(42)\\n\\nNUMBER_OF_STEPS = 50*10 # общее количество шагов == времени'"
      ]
     },
     "execution_count": 630,
     "metadata": {},
     "output_type": "execute_result"
    }
   ],
   "source": [
    "# Устанавливаем параметры\n",
    "'''lambda_ = 1 # интенсивность\n",
    "nu = 5 #пропускная способность\n",
    "number_of_handlers = 5 # кол-во обработчиков\n",
    "random.seed(42)\n",
    "\n",
    "NUMBER_OF_STEPS = 50*10 # общее количество шагов == времени'''\n",
    "\n",
    "\n"
   ]
  },
  {
   "cell_type": "code",
   "execution_count": 631,
   "metadata": {},
   "outputs": [
    {
     "name": "stdout",
     "output_type": "stream",
     "text": [
      "0.2340157246699303\n"
     ]
    }
   ],
   "source": [
    "arr = []\n",
    "model = Model(6, 14, 3)\n",
    "model.time = 1000\n",
    "model.run()\n",
    "print(model.handler.get_deny_probability())"
   ]
  },
  {
   "cell_type": "code",
   "execution_count": 632,
   "metadata": {},
   "outputs": [
    {
     "name": "stderr",
     "output_type": "stream",
     "text": [
      "C:\\Users\\user\\Anaconda3\\lib\\site-packages\\numpy\\core\\fromnumeric.py:2957: RuntimeWarning: Mean of empty slice.\n",
      "  out=out, **kwargs)\n",
      "C:\\Users\\user\\Anaconda3\\lib\\site-packages\\numpy\\core\\_methods.py:80: RuntimeWarning: invalid value encountered in double_scalars\n",
      "  ret = ret.dtype.type(ret / rcount)\n"
     ]
    },
    {
     "data": {
      "text/plain": [
       "nan"
      ]
     },
     "execution_count": 632,
     "metadata": {},
     "output_type": "execute_result"
    }
   ],
   "source": [
    "np.mean(arr)"
   ]
  },
  {
   "cell_type": "code",
   "execution_count": 633,
   "metadata": {},
   "outputs": [
    {
     "name": "stdout",
     "output_type": "stream",
     "text": [
      "2.955\n"
     ]
    }
   ],
   "source": [
    "print(model.handler.get_mean_handler_load())"
   ]
  },
  {
   "cell_type": "code",
   "execution_count": 634,
   "metadata": {},
   "outputs": [
    {
     "data": {
      "text/plain": [
       "3155"
      ]
     },
     "execution_count": 634,
     "metadata": {},
     "output_type": "execute_result"
    }
   ],
   "source": [
    "model.handler.number_of_customers_left"
   ]
  },
  {
   "cell_type": "code",
   "execution_count": 635,
   "metadata": {},
   "outputs": [
    {
     "data": {
      "text/plain": [
       "13482"
      ]
     },
     "execution_count": 635,
     "metadata": {},
     "output_type": "execute_result"
    }
   ],
   "source": [
    "model.handler.customers_all"
   ]
  },
  {
   "cell_type": "code",
   "execution_count": 705,
   "metadata": {},
   "outputs": [],
   "source": [
    "model = Model(8, 10, 6)"
   ]
  },
  {
   "cell_type": "code",
   "execution_count": 706,
   "metadata": {},
   "outputs": [],
   "source": [
    "#main = MainHandler(number_of_handlers, lambda_, nu)\n",
    "#main.start(NUMBER_OF_STEPS)\n",
    "\n",
    "model.time = 1000\n",
    "model.run()"
   ]
  },
  {
   "cell_type": "code",
   "execution_count": 707,
   "metadata": {},
   "outputs": [
    {
     "name": "stdout",
     "output_type": "stream",
     "text": [
      "0.167800933859775\n"
     ]
    }
   ],
   "source": [
    "print(model.handler.get_mean_time_spent())"
   ]
  },
  {
   "cell_type": "code",
   "execution_count": 708,
   "metadata": {},
   "outputs": [
    {
     "name": "stdout",
     "output_type": "stream",
     "text": [
      "59\n",
      "10285\n"
     ]
    }
   ],
   "source": [
    "print(model.handler.number_of_customers_left)\n",
    "print(model.handler.customers_all)\n"
   ]
  },
  {
   "cell_type": "code",
   "execution_count": 709,
   "metadata": {},
   "outputs": [
    {
     "name": "stdout",
     "output_type": "stream",
     "text": [
      "0.005736509479824988\n"
     ]
    }
   ],
   "source": [
    "print(model.handler.get_deny_probability())"
   ]
  },
  {
   "cell_type": "code",
   "execution_count": 710,
   "metadata": {},
   "outputs": [
    {
     "data": {
      "image/png": "[encoded data removed]",
      "text/plain": [
       "<matplotlib.figure.Figure at 0x28ce64decf8>"
      ]
     },
     "metadata": {},
     "output_type": "display_data"
    }
   ],
   "source": [
    "import matplotlib\n",
    "\n",
    "customers = model.handler.get_customer_growth()\n",
    "\n",
    "# Data for plotting\n",
    "x = customers\n",
    "\n",
    "fig, ax = plt.subplots()\n",
    "ax.plot(x)\n",
    "\n",
    "ax.set(xlabel='Time', ylabel='Number of customers',\n",
    "       title='Customer growth')\n",
    "ax.grid()\n",
    "\n",
    "# fig.savefig(\"Customer_growth.png\")\n",
    "plt.show()"
   ]
  },
  {
   "cell_type": "code",
   "execution_count": 711,
   "metadata": {},
   "outputs": [
    {
     "name": "stdout",
     "output_type": "stream",
     "text": [
      "10.285\n"
     ]
    }
   ],
   "source": [
    "print(model.handler.get_mean_customer_growth())"
   ]
  },
  {
   "cell_type": "code",
   "execution_count": 712,
   "metadata": {},
   "outputs": [
    {
     "name": "stdout",
     "output_type": "stream",
     "text": [
      "1.234\n"
     ]
    }
   ],
   "source": [
    "print(model.handler.get_mean_handler_load())"
   ]
  },
  {
   "cell_type": "code",
   "execution_count": 713,
   "metadata": {},
   "outputs": [
    {
     "data": {
      "image/png": "[encoded data removed]",
      "text/plain": [
       "<matplotlib.figure.Figure at 0x28ce65ac668>"
      ]
     },
     "metadata": {},
     "output_type": "display_data"
    }
   ],
   "source": [
    "import matplotlib\n",
    "\n",
    "load = model.handler.get_handler_load()\n",
    "\n",
    "# Data for plotting\n",
    "x = load\n",
    "\n",
    "\n",
    "fig, ax = plt.subplots()\n",
    "\n",
    "ax.plot(x)\n",
    "\n",
    "ax.set(xlabel='Time', ylabel='Handlers',\n",
    "       title='Handler load')\n",
    "ax.grid()\n",
    "\n",
    "# fig.savefig(\"Handler_load.png\")\n",
    "plt.show()"
   ]
  },
  {
   "cell_type": "code",
   "execution_count": 714,
   "metadata": {},
   "outputs": [
    {
     "data": {
      "image/png": "[encoded data removed]",
      "text/plain": [
       "<matplotlib.figure.Figure at 0x28ce65ac5f8>"
      ]
     },
     "metadata": {},
     "output_type": "display_data"
    }
   ],
   "source": [
    "x = model.handler.mean_time_spent\n",
    "\n",
    "# the histogram of the data\n",
    "n, bins, patches = plt.hist(x)\n",
    "\n",
    "\n",
    "plt.xlabel('time to process customer')\n",
    "plt.ylabel('customers')\n",
    "plt.title('Histogram with Time to process each customer')\n",
    "\n",
    "plt.grid(True)\n",
    "plt.show()"
   ]
  },
  {
   "cell_type": "code",
   "execution_count": 715,
   "metadata": {},
   "outputs": [
    {
     "data": {
      "image/png": "[encoded data removed]",
      "text/plain": [
       "<matplotlib.figure.Figure at 0x28ce66cbda0>"
      ]
     },
     "metadata": {},
     "output_type": "display_data"
    }
   ],
   "source": [
    "import matplotlib\n",
    "\n",
    "load = model.handler.mean_time_spent\n",
    "\n",
    "# Data for plotting\n",
    "x = load\n",
    "\n",
    "\n",
    "fig, ax = plt.subplots()\n",
    "ax.plot(x)\n",
    "\n",
    "ax.set(xlabel='Time', ylabel='Time spent',\n",
    "       title='Handler load')\n",
    "ax.grid()\n",
    "\n",
    "# fig.savefig(\"Handler_load.png\")\n",
    "plt.show()"
   ]
  },
  {
   "cell_type": "code",
   "execution_count": 716,
   "metadata": {},
   "outputs": [
    {
     "data": {
      "text/plain": [
       "0.167800933859775"
      ]
     },
     "execution_count": 716,
     "metadata": {},
     "output_type": "execute_result"
    }
   ],
   "source": [
    "np.mean(model.handler.mean_time_spent)"
   ]
  },
  {
   "cell_type": "code",
   "execution_count": 717,
   "metadata": {},
   "outputs": [
    {
     "ename": "IndentationError",
     "evalue": "unexpected indent (<ipython-input-717-070b2e8ff1fb>, line 2)",
     "output_type": "error",
     "traceback": [
      "\u001b[1;36m  File \u001b[1;32m\"<ipython-input-717-070b2e8ff1fb>\"\u001b[1;36m, line \u001b[1;32m2\u001b[0m\n\u001b[1;33m    '''summa = 0\u001b[0m\n\u001b[1;37m    ^\u001b[0m\n\u001b[1;31mIndentationError\u001b[0m\u001b[1;31m:\u001b[0m unexpected indent\n"
     ]
    }
   ],
   "source": [
    "traffic= self.lambda_/self.nu\n",
    "        '''summa = 0\n",
    "        for n in range(0, self.number_of_handlers):\n",
    "            summa += pow(traffic,n)/math.factorial(n)\n",
    "            \n",
    "        a =  pow(traffic, k)/math.factorial(k)/summa\n",
    "            \n",
    "        return a'''\n",
    "        if k == 0:\n",
    "            return 0\n",
    "        \n",
    "        #return (pow(traffic, k)/math.factorial(k))/(sum(pow(traffic,n)/math.factorial(n) for n in range(1, k+1)))"
   ]
  },
  {
   "cell_type": "code",
   "execution_count": 718,
   "metadata": {},
   "outputs": [],
   "source": [
    "class Theory:\n",
    "    def __init__(self, number_of_handlers, lambda_, nu):\n",
    "        self.number_of_handlers = number_of_handlers\n",
    "        self.lambda_ = lambda_\n",
    "        self.nu = nu\n",
    "\n",
    "# вероятность, что k обработчиков заняты\n",
    "    def get_k_handlers_load_probability(self, k):\n",
    "        summa = 0\n",
    "        \n",
    "        if k == 0:\n",
    "            return 1 - sum([self.get_k_handlers_load_probability(a) for a in range(1, self.number_of_handlers+1)])\n",
    "        for i in range(0, self.number_of_handlers + 1):\n",
    "            summa += pow(self.lambda_, i) / (math.factorial(i) * pow(self.nu, i))\n",
    "        \n",
    "        return pow(self.lambda_, k) / (math.factorial(k) * pow(self.nu, k) * summa)\n",
    "\n",
    "# вероятность отказа\n",
    "    def get_loss_probability(self):\n",
    "        return self.get_k_handlers_load_probability(self.number_of_handlers)\n",
    "\n",
    "# относительная пропускная способность - вероятность, что заявка будет обслужена\n",
    "    def get_handle_probability(self):\n",
    "        return 1 - self.get_loss_probability()\n",
    "\n",
    "# среднее время поступления заявки\n",
    "    def get_mean_waiting_time(self):\n",
    "        return self.lambda_\n",
    "\n",
    "# среднее время обслуживания\n",
    "    def get_mean_time_spent(self):\n",
    "        return 1 / self.nu\n",
    "\n",
    "# абсолютная пропускная способность - среднее число заявок, обслуживаемых в единицу времени\n",
    "    def absolute_bandwidth(self):\n",
    "        return self.lambda_ * self.get_handle_probability()\n",
    "\n",
    "# число покупалетей за все время\n",
    "    def get_customers_all(self, steps):\n",
    "        return self.lambda_ * steps\n",
    "\n",
    "# среднее число занятых касс - интенсивность потока обслуженных системой заявок (в единицу времени)\n",
    "    def get_mean_handler_load(self):\n",
    "        a = 0\n",
    "        for n in range(0, self.number_of_handlers):\n",
    "            print(n, self.get_k_handlers_load_probability(n))\n",
    "            a += n * self.get_k_handlers_load_probability(n)\n",
    "        return a\n",
    "#        return absolute_bandwidth() / self.nu\n",
    "\n",
    "    def get_number_of_customers_left(self, steps):\n",
    "        return self.get_customers_all(steps) * self.get_loss_probability()"
   ]
  },
  {
   "cell_type": "code",
   "execution_count": 719,
   "metadata": {},
   "outputs": [],
   "source": [
    "theory = Theory(8, 10, 6)"
   ]
  },
  {
   "cell_type": "code",
   "execution_count": 720,
   "metadata": {},
   "outputs": [
    {
     "data": {
      "text/plain": [
       "0.3148121165355742"
      ]
     },
     "execution_count": 720,
     "metadata": {},
     "output_type": "execute_result"
    }
   ],
   "source": [
    "theory.get_k_handlers_load_probability(1)"
   ]
  },
  {
   "cell_type": "code",
   "execution_count": 721,
   "metadata": {},
   "outputs": [
    {
     "name": "stdout",
     "output_type": "stream",
     "text": [
      "0.0002789151874662252\n",
      "0.005736509479824988\n"
     ]
    }
   ],
   "source": [
    "print(theory.get_loss_probability())\n",
    "print(model.handler.number_of_customers_left / model.handler.customers_all)"
   ]
  },
  {
   "cell_type": "code",
   "execution_count": 722,
   "metadata": {},
   "outputs": [
    {
     "data": {
      "text/plain": [
       "0.9997210848125337"
      ]
     },
     "execution_count": 722,
     "metadata": {},
     "output_type": "execute_result"
    }
   ],
   "source": [
    "theory.get_handle_probability()"
   ]
  },
  {
   "cell_type": "code",
   "execution_count": 723,
   "metadata": {},
   "outputs": [
    {
     "data": {
      "text/plain": [
       "0.16666666666666666"
      ]
     },
     "execution_count": 723,
     "metadata": {},
     "output_type": "execute_result"
    }
   ],
   "source": [
    "theory.get_mean_time_spent()"
   ]
  },
  {
   "cell_type": "code",
   "execution_count": 724,
   "metadata": {},
   "outputs": [
    {
     "data": {
      "text/plain": [
       "9.997210848125338"
      ]
     },
     "execution_count": 724,
     "metadata": {},
     "output_type": "execute_result"
    }
   ],
   "source": [
    "theory.absolute_bandwidth()"
   ]
  },
  {
   "cell_type": "code",
   "execution_count": 725,
   "metadata": {},
   "outputs": [
    {
     "data": {
      "text/plain": [
       "10000"
      ]
     },
     "execution_count": 725,
     "metadata": {},
     "output_type": "execute_result"
    }
   ],
   "source": [
    "theory.get_customers_all(1000)"
   ]
  },
  {
   "cell_type": "code",
   "execution_count": 726,
   "metadata": {},
   "outputs": [
    {
     "name": "stdout",
     "output_type": "stream",
     "text": [
      "0 0.18888726992134464\n",
      "1 0.3148121165355742\n",
      "2 0.26234343044631186\n",
      "3 0.14574635024795105\n",
      "4 0.060727645936646264\n",
      "5 0.020242548645548756\n",
      "6 0.005622930179319099\n",
      "7 0.0013387928998378805\n"
     ]
    },
    {
     "data": {
      "text/plain": [
       "1.66397048652116"
      ]
     },
     "execution_count": 726,
     "metadata": {},
     "output_type": "execute_result"
    }
   ],
   "source": [
    "theory.get_mean_handler_load()"
   ]
  },
  {
   "cell_type": "code",
   "execution_count": 678,
   "metadata": {},
   "outputs": [
    {
     "data": {
      "text/plain": [
       "2334.071519897913"
      ]
     },
     "execution_count": 678,
     "metadata": {},
     "output_type": "execute_result"
    }
   ],
   "source": [
    "theory.get_number_of_customers_left(1000)"
   ]
  },
  {
   "cell_type": "code",
   "execution_count": null,
   "metadata": {},
   "outputs": [],
   "source": []
  },
  {
   "cell_type": "code",
   "execution_count": null,
   "metadata": {},
   "outputs": [],
   "source": []
  }
 ],
 "metadata": {
  "kernelspec": {
   "display_name": "Python 3",
   "language": "python",
   "name": "python3"
  },
  "language_info": {
   "codemirror_mode": {
    "name": "ipython",
    "version": 3
   },
   "file_extension": ".py",
   "mimetype": "text/x-python",
   "name": "python",
   "nbconvert_exporter": "python",
   "pygments_lexer": "ipython3",
   "version": "3.6.4"
  }
 },
 "nbformat": 4,
 "nbformat_minor": 2
}
