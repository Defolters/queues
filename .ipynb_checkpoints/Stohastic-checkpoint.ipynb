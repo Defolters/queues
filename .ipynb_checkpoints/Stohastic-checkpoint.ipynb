{
 "cells": [
  {
   "cell_type": "code",
   "execution_count": 1,
   "metadata": {},
   "outputs": [],
   "source": [
    "import random, math\n",
    "import matplotlib.pyplot as plt\n",
    "import seaborn as sns\n",
    "import statistics\n",
    "import numpy as np\n",
    "\n",
    "from matplotlib import style\n",
    "style.use('seaborn')"
   ]
  },
  {
   "cell_type": "code",
   "execution_count": 2,
   "metadata": {},
   "outputs": [],
   "source": [
    "random.seed(42)"
   ]
  },
  {
   "cell_type": "code",
   "execution_count": 3,
   "metadata": {},
   "outputs": [
    {
     "name": "stdout",
     "output_type": "stream",
     "text": [
      "5.1003014363740045\n",
      "1.2741173822824994\n"
     ]
    }
   ],
   "source": [
    "def exprand(lambdr):\n",
    "    return -math.log(1.0 - random.random()) / lambdr\n",
    "\n",
    "print(exprand(1/5))\n",
    "print(np.random.exponential(5))"
   ]
  },
  {
   "cell_type": "code",
   "execution_count": 4,
   "metadata": {},
   "outputs": [
    {
     "name": "stdout",
     "output_type": "stream",
     "text": [
      "4.996910625821818\n",
      "5.0074373915680574\n"
     ]
    }
   ],
   "source": [
    "a = []\n",
    "b = []\n",
    "for i in range(100000):\n",
    "    a.append(np.random.exponential(5))\n",
    "    b.append(exprand(1/5))\n",
    "print(statistics.mean(a))\n",
    "print(statistics.mean(b))"
   ]
  },
  {
   "cell_type": "code",
   "execution_count": 78,
   "metadata": {},
   "outputs": [],
   "source": [
    "def exprand(lambdr):\n",
    "    return -math.log(1.0 - random.random()) / lambdr\n",
    "\n",
    "class Customer:\n",
    "    def __init__(self, customer_id, y, time_to_process_this_customer):\n",
    "        self.customer_id = customer_id  # номер человека\n",
    "        self.y = y # время, через которое он придет\n",
    "        self.check_in_time = 0 #время, в которое он придет\n",
    "        self.time_to_process_this_customer = round(time_to_process_this_customer) # время на обработку этого человека (+1 временное решение того, что 0 требуется на процесс)\n",
    "\n",
    "\n",
    "# Обработчик\n",
    "class Handler:\n",
    "    def __init__(self, id):\n",
    "        self.id = id\n",
    "        self.powerness = 1.0\n",
    "        self.tmp_powerness = self.powerness\n",
    "\n",
    "    def process_customer(self, list_of_customers):\n",
    "        if (list_of_customers is not None):\n",
    "            self.tmp_powerness = self.powerness\n",
    "            tmp_powerness_ = self.tmp_powerness\n",
    "            for i in list_of_customers:\n",
    "                if self.tmp_powerness > 0:\n",
    "                    tmp_powerness_-= i.time_to_process_this_customer\n",
    "                    i.time_to_process_this_customer -= self.tmp_powerness\n",
    "                    self.tmp_powerness = tmp_powerness_\n",
    "                    if i.time_to_process_this_customer <= 0:\n",
    "                        list_of_customers.remove(i)\n",
    "                        \n",
    "    def get_tmp_powerness(self):\n",
    "        return self.tmp_powerness\n",
    "    \n",
    "    def get_powerness(self):\n",
    "        return self.powerness"
   ]
  },
  {
   "cell_type": "code",
   "execution_count": 79,
   "metadata": {},
   "outputs": [],
   "source": [
    "# Вeликий обрабатор!\n",
    "class MainHandler:\n",
    "    def __init__(self, number_of_handlers, lambda_, nu):\n",
    "        self.number_of_handlers = number_of_handlers\n",
    "        #self.number_of_customers = number_of_customers\n",
    "        self.list_of_customers = []\n",
    "        self.list_of_tmp_customers = []\n",
    "        self.list_of_handlers = []\n",
    "        self.number_of_customers_left  = 0\n",
    "        self.customers_growth = []\n",
    "        self.customers_all = 0\n",
    "        self.mean_time_spent = []\n",
    "        self.handler_load = []\n",
    "        self.lambda_ = lambda_\n",
    "        self.nu = nu\n",
    "        \n",
    "    def get_next(self, customer_id, lambd,nu):\n",
    "        # Устанавливаем номер человека\n",
    "        # время, через котрое он придет\n",
    "        # и время, которое требуется на его обработку\n",
    "        customer = Customer(customer_id, exprand(1/lambd), exprand(nu))\n",
    "    \n",
    "        return customer\n",
    "    \n",
    "    def generate_customers(self, steps):\n",
    "        lost_time = steps  # оставшееся количество шагов == время для генерации\n",
    "\n",
    "        customer_id = 0\n",
    "        while (lost_time > 0):\n",
    "            customer_id += 1\n",
    "            customer = self.get_next(customer_id, self.lambda_, self.nu)\n",
    "            lost_time -= customer.y\n",
    "            customer.check_in_time = round(steps - lost_time)\n",
    "            self.list_of_customers.append(customer)\n",
    "\n",
    "        #print(\"Number of customers:\" + str(len(self.list_of_customers)))\n",
    "        #for customer in self.list_of_customers:\n",
    "            #print(\"check_in_time: \"+str(customer.check_in_time) + \" and time_to_process_this_customer:\" + str(customer.time_to_process_this_customer))\n",
    "\n",
    "    def start(self, steps):\n",
    "        self.generate_customers(steps)\n",
    "        \n",
    "        for i in range(self.number_of_handlers):\n",
    "            self.list_of_handlers.append(Handler(i))\n",
    "\n",
    "        for i in range(steps):\n",
    "            new_customers = [customer for customer in self.list_of_customers if customer.check_in_time == i]\n",
    "            \n",
    "            # save customers number\n",
    "            self.customers_all += len(new_customers)\n",
    "            self.customers_growth.append(self.customers_all)\n",
    "            \n",
    "            # обрабатываем людей\n",
    "            for handler in self.list_of_handlers:\n",
    "                handler.process_customer(new_customers)\n",
    "        \n",
    "            number_of_working_handlers = 0\n",
    "            for handler in self.list_of_handlers:\n",
    "                if handler.get_tmp_powerness() != handler.get_powerness():\n",
    "                    number_of_working_handlers += 1\n",
    "            \n",
    "            self.handler_load.append(number_of_working_handlers)\n",
    "            \n",
    "            self.number_of_customers_left+=len(new_customers)\n",
    "                \n",
    "            # продолжаем\n",
    "\n",
    "    # statistics\n",
    "    def get_customers(self):\n",
    "        return self.list_of_customers\n",
    "    \n",
    "    # количество пришедших кастомеров с начала\n",
    "    def get_customer_growth(self):\n",
    "        return self.customers_growth\n",
    "    \n",
    "    # Среднее количество НОВЫХ заявок в системе\n",
    "    def get_mean_customer_growth(self):\n",
    "        return self.customers_all/len(self.customers_growth)\n",
    "    \n",
    "    # количество ОБРАБАТЫВАЕМЫХ заявок в системе\n",
    "    def get_handler_load(self):\n",
    "        return self.handler_load\n",
    "    \n",
    "    # Среднее количество ОБРАБАТЫВАЕМЫХ заявок в системе\n",
    "    def get_mean_handler_load(self):\n",
    "        sum_load = 0\n",
    "        for load in self.handler_load:\n",
    "            sum_load += load\n",
    "        \n",
    "        return sum_load/len(self.handler_load)\n",
    "    \n",
    "    '''# среднее время пребыания?\n",
    "    def get_mean_time_spent(self):\n",
    "        return statistics.mean(self.mean_time_spent)'''\n",
    "    \n",
    "    # вероятность отказа\n",
    "    def get_deny_probability(self):\n",
    "        return self.number_of_customers_left/self.customers_all"
   ]
  },
  {
   "cell_type": "code",
   "execution_count": 80,
   "metadata": {},
   "outputs": [],
   "source": [
    "class Model:\n",
    "    def __init__(self, number_of_handlers, lambda_, nu):\n",
    "        self.__handler = MainHandler(number_of_handlers, lambda_, nu)\n",
    "        self.__time = None\n",
    "        \n",
    "    def run(self):\n",
    "        if self.__time is None or self.__handler is None:\n",
    "            raise ValueError\n",
    "        \n",
    "        self.__handler.start(self.__time)\n",
    "        \n",
    "    def set_time(self, time):\n",
    "        if time <= 0:\n",
    "            raise ValueError\n",
    "            \n",
    "        self.__time = time\n",
    "        \n",
    "    def get_time(self):\n",
    "        return self.__time\n",
    "    \n",
    "    def get_handler(self):\n",
    "        return self.__handler\n",
    "    \n",
    "    def set_handler(self, handler):\n",
    "        self.__handler = handler\n",
    "    \n",
    "    handler = property(get_handler, set_handler)\n",
    "    time = property(get_time, set_time)\n"
   ]
  },
  {
   "cell_type": "code",
   "execution_count": 81,
   "metadata": {},
   "outputs": [
    {
     "data": {
      "text/plain": [
       "'lambda_ = 1 # интенсивность\\nnu = 5 #пропускная способность\\nnumber_of_handlers = 5 # кол-во обработчиков\\nrandom.seed(42)\\n\\nNUMBER_OF_STEPS = 50*10 # общее количество шагов == времени'"
      ]
     },
     "execution_count": 81,
     "metadata": {},
     "output_type": "execute_result"
    }
   ],
   "source": [
    "# Устанавливаем параметры\n",
    "'''lambda_ = 1 # интенсивность\n",
    "nu = 5 #пропускная способность\n",
    "number_of_handlers = 5 # кол-во обработчиков\n",
    "random.seed(42)\n",
    "\n",
    "NUMBER_OF_STEPS = 50*10 # общее количество шагов == времени'''\n",
    "\n",
    "\n"
   ]
  },
  {
   "cell_type": "code",
   "execution_count": 82,
   "metadata": {},
   "outputs": [],
   "source": [
    "model = Model(5, 1, 5)"
   ]
  },
  {
   "cell_type": "code",
   "execution_count": 111,
   "metadata": {},
   "outputs": [],
   "source": [
    "#main = MainHandler(number_of_handlers, lambda_, nu)\n",
    "#main.start(NUMBER_OF_STEPS)\n",
    "\n",
    "model.time = 1000\n",
    "model.run()"
   ]
  },
  {
   "cell_type": "code",
   "execution_count": 112,
   "metadata": {},
   "outputs": [],
   "source": [
    "#print(model.handler.get_mean_time_spent())"
   ]
  },
  {
   "cell_type": "code",
   "execution_count": 113,
   "metadata": {},
   "outputs": [
    {
     "name": "stdout",
     "output_type": "stream",
     "text": [
      "0\n",
      "9547\n"
     ]
    }
   ],
   "source": [
    "print(model.handler.number_of_customers_left)\n",
    "print(model.handler.customers_all)\n"
   ]
  },
  {
   "cell_type": "code",
   "execution_count": 114,
   "metadata": {},
   "outputs": [
    {
     "name": "stdout",
     "output_type": "stream",
     "text": [
      "0.0\n"
     ]
    }
   ],
   "source": [
    "print(model.handler.get_deny_probability())"
   ]
  },
  {
   "cell_type": "code",
   "execution_count": 115,
   "metadata": {},
   "outputs": [
    {
     "data": {
      "image/png": "[encoded data removed]",
      "text/plain": [
       "<matplotlib.figure.Figure at 0x2ce567d01d0>"
      ]
     },
     "metadata": {},
     "output_type": "display_data"
    }
   ],
   "source": [
    "import matplotlib\n",
    "\n",
    "customers = model.handler.get_customer_growth()\n",
    "\n",
    "# Data for plotting\n",
    "x = customers\n",
    "\n",
    "fig, ax = plt.subplots()\n",
    "ax.plot(x)\n",
    "\n",
    "ax.set(xlabel='Time', ylabel='Number of customers',\n",
    "       title='Customer growth')\n",
    "ax.grid()\n",
    "\n",
    "# fig.savefig(\"Customer_growth.png\")\n",
    "plt.show()"
   ]
  },
  {
   "cell_type": "code",
   "execution_count": 116,
   "metadata": {},
   "outputs": [
    {
     "name": "stdout",
     "output_type": "stream",
     "text": [
      "2.1722411831626847\n"
     ]
    }
   ],
   "source": [
    "print(model.handler.get_mean_customer_growth())"
   ]
  },
  {
   "cell_type": "code",
   "execution_count": 117,
   "metadata": {},
   "outputs": [
    {
     "name": "stdout",
     "output_type": "stream",
     "text": [
      "0.9244596131968146\n"
     ]
    }
   ],
   "source": [
    "print(model.handler.get_mean_handler_load())"
   ]
  },
  {
   "cell_type": "code",
   "execution_count": 118,
   "metadata": {},
   "outputs": [
    {
     "data": {
      "image/png": "[encoded data removed]",
      "text/plain": [
       "<matplotlib.figure.Figure at 0x2ce567f0898>"
      ]
     },
     "metadata": {},
     "output_type": "display_data"
    }
   ],
   "source": [
    "import matplotlib\n",
    "\n",
    "load = model.handler.get_handler_load()\n",
    "\n",
    "# Data for plotting\n",
    "x = load\n",
    "\n",
    "\n",
    "fig, ax = plt.subplots()\n",
    "\n",
    "ax.plot(x)\n",
    "\n",
    "ax.set(xlabel='Time', ylabel='Handlers',\n",
    "       title='Handler load')\n",
    "ax.grid()\n",
    "\n",
    "# fig.savefig(\"Handler_load.png\")\n",
    "plt.show()"
   ]
  },
  {
   "cell_type": "code",
   "execution_count": 119,
   "metadata": {},
   "outputs": [
    {
     "data": {
      "image/png": "[encoded data removed]",
      "text/plain": [
       "<matplotlib.figure.Figure at 0x2ce567f0c88>"
      ]
     },
     "metadata": {},
     "output_type": "display_data"
    }
   ],
   "source": [
    "x = model.handler.mean_time_spent\n",
    "\n",
    "# the histogram of the data\n",
    "n, bins, patches = plt.hist(x)\n",
    "\n",
    "\n",
    "plt.xlabel('time to process customer')\n",
    "plt.ylabel('customers')\n",
    "plt.title('Histogram with Time to process each customer')\n",
    "\n",
    "plt.grid(True)\n",
    "plt.show()"
   ]
  },
  {
   "cell_type": "code",
   "execution_count": 120,
   "metadata": {},
   "outputs": [
    {
     "data": {
      "image/png": "[encoded data removed]",
      "text/plain": [
       "<matplotlib.figure.Figure at 0x2ce567f85f8>"
      ]
     },
     "metadata": {},
     "output_type": "display_data"
    }
   ],
   "source": [
    "import matplotlib\n",
    "\n",
    "load = model.handler.mean_time_spent\n",
    "\n",
    "# Data for plotting\n",
    "x = load\n",
    "\n",
    "\n",
    "fig, ax = plt.subplots()\n",
    "ax.plot(x)\n",
    "\n",
    "ax.set(xlabel='Time', ylabel='Time spent',\n",
    "       title='Handler load')\n",
    "ax.grid()\n",
    "\n",
    "# fig.savefig(\"Handler_load.png\")\n",
    "plt.show()"
   ]
  },
  {
   "cell_type": "code",
   "execution_count": 121,
   "metadata": {},
   "outputs": [],
   "source": [
    "class Theory:\n",
    "    def __init__(self, number_of_handlers, lambda_, nu):\n",
    "        self.number_of_handlers = number_of_handlers\n",
    "        self.lambda_ = lambda_\n",
    "        self.nu = nu\n",
    "\n",
    "# вероятность, что k обработчиков заняты\n",
    "    def get_k_handlers_load_probability(self, k):\n",
    "        traffic=self.lambda_/self.nu\n",
    "        return (pow(traffic, k)/math.factorial(k))/(sum(pow(traffic,n)/math.factorial(n) for n in range(0, self.number_of_handlers)))\n",
    "\n",
    "# вероятность отказа\n",
    "    def get_loss_probability(self):\n",
    "        return self.get_k_handlers_load_probability(self.number_of_handlers)\n",
    "\n",
    "# относительная пропускная способность - вероятность, что заявка будет обслужена\n",
    "    def get_handle_probability(self):\n",
    "        return 1 - self.get_loss_probability()\n",
    "\n",
    "# среднее время поступления заявки\n",
    "    def get_mean_waiting_time(self):\n",
    "        return self.lambda_\n",
    "\n",
    "# среднее время обслуживания\n",
    "    def get_mean_time_spent(self):\n",
    "        return 1 / self.nu\n",
    "\n",
    "# абсолютная пропускная способность - среднее число заявок, обслуживаемых в единицу времени\n",
    "    def absolute_bandwidth(self):\n",
    "        return self.lambda_ * self.get_handle_probability()\n",
    "\n",
    "# число покупалетей за все время\n",
    "    def get_customers_all(self, steps):\n",
    "        return self.lambda_ * steps\n",
    "\n",
    "# среднее число занятых касс - интенсивность потока обслуженных системой заявок (в единицу времени)\n",
    "    def get_mean_handler_load(self):\n",
    "        return (sum(n * self.get_k_handlers_load_probability(n) for n in range(0, self.number_of_handlers)))\n",
    "#        return absolute_bandwidth() / self.nu\n",
    "\n",
    "    def get_number_of_customers_left(self, steps):\n",
    "        return self.get_customers_all(steps) * self.get_loss_probability()"
   ]
  },
  {
   "cell_type": "code",
   "execution_count": 122,
   "metadata": {},
   "outputs": [],
   "source": [
    "theory = Theory(5, 1, 5)"
   ]
  },
  {
   "cell_type": "code",
   "execution_count": 123,
   "metadata": {},
   "outputs": [
    {
     "data": {
      "text/plain": [
       "0.1637465203864418"
      ]
     },
     "execution_count": 123,
     "metadata": {},
     "output_type": "execute_result"
    }
   ],
   "source": [
    "theory.get_k_handlers_load_probability(1)"
   ]
  },
  {
   "cell_type": "code",
   "execution_count": 124,
   "metadata": {},
   "outputs": [
    {
     "name": "stdout",
     "output_type": "stream",
     "text": [
      "2.183286938485891e-06\n",
      "0.0 %\n"
     ]
    }
   ],
   "source": [
    "print(theory.get_loss_probability())\n",
    "print(model.handler.number_of_customers_left / model.handler.customers_all *100, '%')"
   ]
  },
  {
   "cell_type": "code",
   "execution_count": 107,
   "metadata": {},
   "outputs": [
    {
     "data": {
      "text/plain": [
       "0.9999978167130615"
      ]
     },
     "execution_count": 107,
     "metadata": {},
     "output_type": "execute_result"
    }
   ],
   "source": [
    "theory.get_handle_probability()"
   ]
  },
  {
   "cell_type": "code",
   "execution_count": 108,
   "metadata": {},
   "outputs": [
    {
     "data": {
      "text/plain": [
       "1"
      ]
     },
     "execution_count": 108,
     "metadata": {},
     "output_type": "execute_result"
    }
   ],
   "source": [
    "theory.get_mean_waiting_time()"
   ]
  },
  {
   "cell_type": "code",
   "execution_count": 162,
   "metadata": {},
   "outputs": [
    {
     "data": {
      "text/plain": [
       "0.2"
      ]
     },
     "execution_count": 162,
     "metadata": {},
     "output_type": "execute_result"
    }
   ],
   "source": [
    "theory.get_mean_time_spent()"
   ]
  },
  {
   "cell_type": "code",
   "execution_count": 131,
   "metadata": {},
   "outputs": [
    {
     "data": {
      "text/plain": [
       "0.9999978167130615"
      ]
     },
     "execution_count": 131,
     "metadata": {},
     "output_type": "execute_result"
    }
   ],
   "source": [
    "theory.absolute_bandwidth()"
   ]
  },
  {
   "cell_type": "code",
   "execution_count": 132,
   "metadata": {},
   "outputs": [
    {
     "data": {
      "text/plain": [
       "500"
      ]
     },
     "execution_count": 132,
     "metadata": {},
     "output_type": "execute_result"
    }
   ],
   "source": [
    "theory.get_customers_all(500)"
   ]
  },
  {
   "cell_type": "code",
   "execution_count": 133,
   "metadata": {},
   "outputs": [
    {
     "data": {
      "text/plain": [
       "0.19998908356530756"
      ]
     },
     "execution_count": 133,
     "metadata": {},
     "output_type": "execute_result"
    }
   ],
   "source": [
    "theory.get_mean_handler_load()"
   ]
  },
  {
   "cell_type": "code",
   "execution_count": 136,
   "metadata": {},
   "outputs": [
    {
     "data": {
      "text/plain": [
       "0.002183286938485891"
      ]
     },
     "execution_count": 136,
     "metadata": {},
     "output_type": "execute_result"
    }
   ],
   "source": [
    "theory.get_number_of_customers_left(1000)"
   ]
  },
  {
   "cell_type": "code",
   "execution_count": null,
   "metadata": {},
   "outputs": [],
   "source": []
  }
 ],
 "metadata": {
  "kernelspec": {
   "display_name": "Python 3",
   "language": "python",
   "name": "python3"
  },
  "language_info": {
   "codemirror_mode": {
    "name": "ipython",
    "version": 3
   },
   "file_extension": ".py",
   "mimetype": "text/x-python",
   "name": "python",
   "nbconvert_exporter": "python",
   "pygments_lexer": "ipython3",
   "version": "3.6.4"
  }
 },
 "nbformat": 4,
 "nbformat_minor": 2
}
